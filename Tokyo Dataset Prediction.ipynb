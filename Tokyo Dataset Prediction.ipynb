{
 "cells": [
  {
   "cell_type": "code",
   "execution_count": 1,
   "id": "4f76ad31",
   "metadata": {},
   "outputs": [
    {
     "data": {
      "text/plain": [
       "[<matplotlib.lines.Line2D at 0x1f51f280c10>]"
      ]
     },
     "execution_count": 1,
     "metadata": {},
     "output_type": "execute_result"
    },
    {
     "data": {
      "image/png": "[encoded data removed]",
      "text/plain": [
       "<Figure size 432x288 with 1 Axes>"
      ]
     },
     "metadata": {
      "needs_background": "light"
     },
     "output_type": "display_data"
    }
   ],
   "source": [
    "import sklearn #Machine learning library\n",
    "import pandas as pd #For data manipulation and analysis\n",
    "import numpy as np #For performing mathematical operations\n",
    "from sklearn.linear_model  import LinearRegression #For implementing linear regression\n",
    "\n",
    "#Read the Excel file from the system\n",
    "df = pd.read_excel('C:\\\\Users\\\\HP\\\\OneDrive\\\\Desktop\\\\Olympics in Tokyo Dataset\\\\Medals.xlsx')\n",
    "df = df.head(100)\n",
    "df.shape\n",
    "np.corrcoef(df['Total'],df[\"RankbyTotal\"]) #returns a correlation matrix\n",
    "#Correlation matrix is a measure of the extent to which two variables are related. \n",
    "\n",
    "#sample() is used to generate a sample random row or column\n",
    "df_sampled = df.sample(frac=1).drop_duplicates(['RankbyTotal']) \n",
    "df_sampled\n",
    "np.corrcoef(df_sampled['Total'],df_sampled[\"RankbyTotal\"]) #returns a correlation matrix\n",
    "\n",
    "#Implementing linear regression\n",
    "model = LinearRegression()\n",
    "\n",
    "#reshape() gives a new shape to an array without changing its data\n",
    "model.fit(np.reshape(df_sampled['Total'].values,(-1,1)),np.reshape(df_sampled[\"RankbyTotal\"].values,(-1,1)))\n",
    "model.predict(np.array([[0]]))\n",
    "\n",
    "#Plot the excel data\n",
    "import matplotlib.pyplot as plt\n",
    "\n",
    "#sets the backend of matplotlib\n",
    "%matplotlib inline \n",
    "\n",
    "plt.plot(df[\"RankbyTotal\"],df[\"Total\"],\"o\")"
   ]
  },
  {
   "cell_type": "code",
   "execution_count": 2,
   "id": "b256871b",
   "metadata": {},
   "outputs": [
    {
     "data": {
      "text/plain": [
       "[<matplotlib.lines.Line2D at 0x1f51f368bb0>]"
      ]
     },
     "execution_count": 2,
     "metadata": {},
     "output_type": "execute_result"
    },
    {
     "data": {
      "image/png": "[encoded data removed]",
      "text/plain": [
       "<Figure size 432x288 with 1 Axes>"
      ]
     },
     "metadata": {
      "needs_background": "light"
     },
     "output_type": "display_data"
    }
   ],
   "source": [
    "#Logarithmic transformation to make the data linear\n",
    "plt.plot(np.log(df[\"Total\"]),(df[\"RankbyTotal\"]),\"o\")"
   ]
  },
  {
   "cell_type": "code",
   "execution_count": 11,
   "id": "449a5b2d",
   "metadata": {},
   "outputs": [
    {
     "name": "stderr",
     "output_type": "stream",
     "text": [
      "C:\\Users\\HP\\anaconda3\\lib\\site-packages\\sklearn\\utils\\validation.py:63: DataConversionWarning: A column-vector y was passed when a 1d array was expected. Please change the shape of y to (n_samples, ), for example using ravel().\n",
      "  return f(*args, **kwargs)\n"
     ]
    }
   ],
   "source": [
    "from sklearn.svm import SVR #Used to model non-linear relationships for variables \n",
    "from sklearn.metrics import r2_score,mean_squared_error,mean_absolute_error\n",
    "import numpy as np\n",
    "from sklearn.preprocessing import StandardScaler #Removes the mean and scales each feature to unit variance\n",
    "from sklearn.preprocessing import FunctionTransformer #Used for taking the log of frequencies\n",
    "from imblearn.pipeline import Pipeline #To assemble several steps that can be cross validated \n",
    "\n",
    "\n",
    "#Gives a new shape to an array without changing its data\n",
    "X=np.reshape(df['Total'].values,(-1,1))\n",
    "y=np.reshape(df[\"RankbyTotal\"].values,(-1,1))\n",
    "sr = SVR().fit(np.reshape(df_sampled['Total'].values,(-1,1)),y=np.reshape(df_sampled[\"RankbyTotal\"].values,(-1,1)))\n",
    "srm = LinearRegression().fit(np.log(X),y)\n",
    "\n",
    "#Used to evaluate the performance of a linear regression model\n",
    "#r2= 1-(unexplained variation/total variation)\n",
    "r2_score(srm.predict(np.log(X)),y)\n",
    "\n",
    "#Magnitude of difference between the prediction of an observation and the true value of that observation\n",
    "#sum of absolute errors/Total no. of data points\n",
    "mean_absolute_error(srm.predict(np.log(X)),y) \n",
    "\n",
    "\n",
    "def log_transform(x):\n",
    "    return np.log(x + 1)\n",
    "\n",
    "scaler = StandardScaler()\n",
    "\n",
    "#Used to logarithmically transform the data to make it linear\n",
    "transformer = FunctionTransformer(log_transform)\n",
    "pipe = Pipeline(steps=[('scaler', scaler), ('transformer', transformer), ('regressor', LinearRegression())], \n",
    "                memory='sklearn_tmp_memory')\n",
    "pipe.fit(X=X,y=y)\n",
    "score= pipe.score(X, y) #Calculate the r2 score of the model\n",
    "r2_score= round(score,2) #round off the r2 score\n",
    "\n",
    "#Import libraries for the gui\n",
    "from tkinter import *\n",
    "\n",
    "#Configuring and creating a window\n",
    "window=Tk()\n",
    "window.geometry(\"500x100\")\n",
    "window.title(\"Accuracy\")\n",
    "window.configure(bg=\"black\")\n",
    "window.resizable(False, False)  #setting a window size\n",
    "\n",
    "#Design the labels\n",
    "w = Label(window, text ='Accuracy Level of the model') \n",
    "w.configure(bg=\"black\", fg=\"white\", font=(\"Times\", 20, \"bold\"))\n",
    "\n",
    "msg = Message(window, text = r2_score)\n",
    "msg.configure(bg=\"black\", fg=\"red\", font = (\"Times\", 30))\n",
    "\n",
    "#Pack() organizes widgets in blocks before placing them\n",
    "w.pack()\n",
    "msg.pack()  \n",
    "\n",
    "#Close the loop\n",
    "window.mainloop() "
   ]
  },
  {
   "cell_type": "code",
   "execution_count": 12,
   "id": "80c6a6c7",
   "metadata": {},
   "outputs": [
    {
     "name": "stdout",
     "output_type": "stream",
     "text": [
      "Enter the total score of the team : 33\n"
     ]
    }
   ],
   "source": [
    "# Import libraries for the gui\n",
    "from tkinter import *\n",
    "\n",
    "#Define the values\n",
    "value= input(\"Enter the total score of the team : \")\n",
    "prediction= pipe.predict(np.array([[value]]))\n",
    "x= np.around(prediction.astype(int))\n",
    "\n",
    "#Remove the brackets in array\n",
    "for brac_x in x: \n",
    "    for pred_final in brac_x: \n",
    "        pred_final\n",
    "\n",
    "#Configuring and creating a window\n",
    "window=Tk()\n",
    "window.geometry(\"550x170\")\n",
    "window.title(\"Rank\") \n",
    "window.configure(bg=\"black\")\n",
    "window.resizable(False, False)  #setting a fixed window size\n",
    "\n",
    "#Design the labels\n",
    "        \n",
    "w = Label(window, text = 'Predicted rank for the total medal score')  \n",
    "w.configure(bg=\"black\", fg=\"pink\", font=(\"Times\", 20))\n",
    "\n",
    "msg = Message(window, text = value)\n",
    "msg.configure(bg=\"black\", fg=\"pink\", font=(\"Times\", 20))\n",
    "\n",
    "w1 = Label(window, text ='is')\n",
    "w1.configure(bg=\"black\", fg=\"pink\", font=(\"Times\", 20))\n",
    "\n",
    "msg1 = Message(window, text = pred_final, font = \"50\")  \n",
    "msg1.configure(bg=\"black\", fg=\"white\", font=(\"Times\", 30, \"bold\"))\n",
    "\n",
    "#Pack() organizes widgets in blocks before placing them\n",
    "w.pack() \n",
    "msg.pack()\n",
    "w1.pack() \n",
    "msg1.pack() \n",
    "\n",
    "#Close the loop\n",
    "window.mainloop() "
   ]
  },
  {
   "cell_type": "code",
   "execution_count": null,
   "id": "f184454b",
   "metadata": {},
   "outputs": [],
   "source": []
  }
 ],
 "metadata": {
  "kernelspec": {
   "display_name": "Python 3",
   "language": "python",
   "name": "python3"
  },
  "language_info": {
   "codemirror_mode": {
    "name": "ipython",
    "version": 3
   },
   "file_extension": ".py",
   "mimetype": "text/x-python",
   "name": "python",
   "nbconvert_exporter": "python",
   "pygments_lexer": "ipython3",
   "version": "3.8.8"
  }
 },
 "nbformat": 4,
 "nbformat_minor": 5
}
